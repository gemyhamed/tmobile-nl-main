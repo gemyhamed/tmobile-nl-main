{
 "cells": [
  {
   "cell_type": "markdown",
   "metadata": {},
   "source": [
    "# EDA"
   ]
  },
  {
   "cell_type": "code",
   "execution_count": 1,
   "metadata": {},
   "outputs": [],
   "source": [
    "import pandas as pd\n",
    "from ydata_profiling import ProfileReport\n",
    "import numpy as np"
   ]
  },
  {
   "cell_type": "code",
   "execution_count": 2,
   "metadata": {},
   "outputs": [],
   "source": [
    "df = pd.read_csv('data-set.csv')"
   ]
  },
  {
   "cell_type": "code",
   "execution_count": 3,
   "metadata": {},
   "outputs": [
    {
     "data": {
      "text/html": [
       "<div>\n",
       "<style scoped>\n",
       "    .dataframe tbody tr th:only-of-type {\n",
       "        vertical-align: middle;\n",
       "    }\n",
       "\n",
       "    .dataframe tbody tr th {\n",
       "        vertical-align: top;\n",
       "    }\n",
       "\n",
       "    .dataframe thead th {\n",
       "        text-align: right;\n",
       "    }\n",
       "</style>\n",
       "<table border=\"1\" class=\"dataframe\">\n",
       "  <thead>\n",
       "    <tr style=\"text-align: right;\">\n",
       "      <th></th>\n",
       "      <th>subscriber</th>\n",
       "      <th>income</th>\n",
       "      <th>age</th>\n",
       "      <th>var1</th>\n",
       "      <th>gender</th>\n",
       "      <th>house_type</th>\n",
       "      <th>lastVisit</th>\n",
       "      <th>product02</th>\n",
       "    </tr>\n",
       "  </thead>\n",
       "  <tbody>\n",
       "    <tr>\n",
       "      <th>0</th>\n",
       "      <td>1</td>\n",
       "      <td>118239.80</td>\n",
       "      <td>74.32310</td>\n",
       "      <td>1.216512</td>\n",
       "      <td>f</td>\n",
       "      <td>OWNER</td>\n",
       "      <td>1/1/2012 2:09</td>\n",
       "      <td>Nee</td>\n",
       "    </tr>\n",
       "    <tr>\n",
       "      <th>1</th>\n",
       "      <td>2</td>\n",
       "      <td>348760.40</td>\n",
       "      <td>45.86138</td>\n",
       "      <td>3.672188</td>\n",
       "      <td>f</td>\n",
       "      <td>OWNER</td>\n",
       "      <td>1/1/2012 14:03</td>\n",
       "      <td>Ja</td>\n",
       "    </tr>\n",
       "    <tr>\n",
       "      <th>2</th>\n",
       "      <td>3</td>\n",
       "      <td>96111.34</td>\n",
       "      <td>43.18818</td>\n",
       "      <td>0.578956</td>\n",
       "      <td>f</td>\n",
       "      <td>OWNER</td>\n",
       "      <td>1/1/2012 23:58</td>\n",
       "      <td>Nee</td>\n",
       "    </tr>\n",
       "    <tr>\n",
       "      <th>3</th>\n",
       "      <td>4</td>\n",
       "      <td>73818.17</td>\n",
       "      <td>43.32941</td>\n",
       "      <td>-0.129441</td>\n",
       "      <td>m</td>\n",
       "      <td>RENTAL</td>\n",
       "      <td>1/2/2012 3:51</td>\n",
       "      <td>Ja</td>\n",
       "    </tr>\n",
       "    <tr>\n",
       "      <th>4</th>\n",
       "      <td>5</td>\n",
       "      <td>36469.51</td>\n",
       "      <td>34.87954</td>\n",
       "      <td>-0.127675</td>\n",
       "      <td>m</td>\n",
       "      <td>RENTAL</td>\n",
       "      <td>1/2/2012 13:50</td>\n",
       "      <td>Nee</td>\n",
       "    </tr>\n",
       "  </tbody>\n",
       "</table>\n",
       "</div>"
      ],
      "text/plain": [
       "   subscriber     income       age      var1 gender house_type  \\\n",
       "0           1  118239.80  74.32310  1.216512      f      OWNER   \n",
       "1           2  348760.40  45.86138  3.672188      f      OWNER   \n",
       "2           3   96111.34  43.18818  0.578956      f      OWNER   \n",
       "3           4   73818.17  43.32941 -0.129441      m     RENTAL   \n",
       "4           5   36469.51  34.87954 -0.127675      m     RENTAL   \n",
       "\n",
       "        lastVisit product02  \n",
       "0   1/1/2012 2:09       Nee  \n",
       "1  1/1/2012 14:03        Ja  \n",
       "2  1/1/2012 23:58       Nee  \n",
       "3   1/2/2012 3:51        Ja  \n",
       "4  1/2/2012 13:50       Nee  "
      ]
     },
     "execution_count": 3,
     "metadata": {},
     "output_type": "execute_result"
    }
   ],
   "source": [
    "df.head()"
   ]
  },
  {
   "cell_type": "code",
   "execution_count": null,
   "metadata": {},
   "outputs": [],
   "source": []
  },
  {
   "cell_type": "code",
   "execution_count": 16,
   "metadata": {},
   "outputs": [
    {
     "data": {
      "text/plain": [
       "Index(['subscriber', 'income', 'age', 'var1', 'gender', 'house_type',\n",
       "       'lastVisit', 'product02'],\n",
       "      dtype='object')"
      ]
     },
     "execution_count": 16,
     "metadata": {},
     "output_type": "execute_result"
    }
   ],
   "source": [
    "df.columns"
   ]
  },
  {
   "cell_type": "code",
   "execution_count": 9,
   "metadata": {},
   "outputs": [
    {
     "data": {
      "text/html": [
       "<div>\n",
       "<style scoped>\n",
       "    .dataframe tbody tr th:only-of-type {\n",
       "        vertical-align: middle;\n",
       "    }\n",
       "\n",
       "    .dataframe tbody tr th {\n",
       "        vertical-align: top;\n",
       "    }\n",
       "\n",
       "    .dataframe thead th {\n",
       "        text-align: right;\n",
       "    }\n",
       "</style>\n",
       "<table border=\"1\" class=\"dataframe\">\n",
       "  <thead>\n",
       "    <tr style=\"text-align: right;\">\n",
       "      <th></th>\n",
       "      <th>subscriber</th>\n",
       "      <th>income</th>\n",
       "      <th>age</th>\n",
       "      <th>var1</th>\n",
       "    </tr>\n",
       "  </thead>\n",
       "  <tbody>\n",
       "    <tr>\n",
       "      <th>count</th>\n",
       "      <td>9524.000000</td>\n",
       "      <td>8966.000000</td>\n",
       "      <td>8975.000000</td>\n",
       "      <td>8952.000000</td>\n",
       "    </tr>\n",
       "    <tr>\n",
       "      <th>mean</th>\n",
       "      <td>4762.500000</td>\n",
       "      <td>122301.927841</td>\n",
       "      <td>49.043465</td>\n",
       "      <td>-0.105003</td>\n",
       "    </tr>\n",
       "    <tr>\n",
       "      <th>std</th>\n",
       "      <td>2749.486316</td>\n",
       "      <td>89007.507823</td>\n",
       "      <td>16.288764</td>\n",
       "      <td>1.480915</td>\n",
       "    </tr>\n",
       "    <tr>\n",
       "      <th>min</th>\n",
       "      <td>1.000000</td>\n",
       "      <td>985.849800</td>\n",
       "      <td>18.209650</td>\n",
       "      <td>-17.140300</td>\n",
       "    </tr>\n",
       "    <tr>\n",
       "      <th>25%</th>\n",
       "      <td>2381.750000</td>\n",
       "      <td>52975.740000</td>\n",
       "      <td>36.247210</td>\n",
       "      <td>-0.853022</td>\n",
       "    </tr>\n",
       "    <tr>\n",
       "      <th>50%</th>\n",
       "      <td>4762.500000</td>\n",
       "      <td>101522.700000</td>\n",
       "      <td>47.870090</td>\n",
       "      <td>-0.117858</td>\n",
       "    </tr>\n",
       "    <tr>\n",
       "      <th>75%</th>\n",
       "      <td>7143.250000</td>\n",
       "      <td>170981.975000</td>\n",
       "      <td>59.644960</td>\n",
       "      <td>0.679146</td>\n",
       "    </tr>\n",
       "    <tr>\n",
       "      <th>max</th>\n",
       "      <td>9524.000000</td>\n",
       "      <td>632975.000000</td>\n",
       "      <td>101.095400</td>\n",
       "      <td>13.600780</td>\n",
       "    </tr>\n",
       "  </tbody>\n",
       "</table>\n",
       "</div>"
      ],
      "text/plain": [
       "        subscriber         income          age         var1\n",
       "count  9524.000000    8966.000000  8975.000000  8952.000000\n",
       "mean   4762.500000  122301.927841    49.043465    -0.105003\n",
       "std    2749.486316   89007.507823    16.288764     1.480915\n",
       "min       1.000000     985.849800    18.209650   -17.140300\n",
       "25%    2381.750000   52975.740000    36.247210    -0.853022\n",
       "50%    4762.500000  101522.700000    47.870090    -0.117858\n",
       "75%    7143.250000  170981.975000    59.644960     0.679146\n",
       "max    9524.000000  632975.000000   101.095400    13.600780"
      ]
     },
     "execution_count": 9,
     "metadata": {},
     "output_type": "execute_result"
    }
   ],
   "source": [
    "df.describe()"
   ]
  },
  {
   "cell_type": "code",
   "execution_count": 5,
   "metadata": {},
   "outputs": [
    {
     "data": {
      "text/plain": [
       "subscriber      0\n",
       "income        558\n",
       "age           549\n",
       "var1          572\n",
       "gender        555\n",
       "house_type    546\n",
       "lastVisit       0\n",
       "product02       0\n",
       "dtype: int64"
      ]
     },
     "execution_count": 5,
     "metadata": {},
     "output_type": "execute_result"
    }
   ],
   "source": [
    "# Get count of missing values in the dataset\n",
    "df.isnull().sum()"
   ]
  },
  {
   "cell_type": "code",
   "execution_count": 6,
   "metadata": {},
   "outputs": [
    {
     "data": {
      "text/plain": [
       "0    8289\n",
       "2     434\n",
       "3     338\n",
       "1     323\n",
       "4     125\n",
       "5      15\n",
       "Name: count, dtype: int64"
      ]
     },
     "execution_count": 6,
     "metadata": {},
     "output_type": "execute_result"
    }
   ],
   "source": [
    "# Checking the distribution of the null values across rows \n",
    "df.isnull().sum(axis=1).value_counts()"
   ]
  },
  {
   "cell_type": "code",
   "execution_count": 11,
   "metadata": {},
   "outputs": [],
   "source": [
    "# Drop rows that have more than 2 missing values.\n",
    "df = df[df.isnull().sum(axis=1) <= 2]"
   ]
  },
  {
   "cell_type": "code",
   "execution_count": 14,
   "metadata": {},
   "outputs": [
    {
     "data": {
      "text/plain": [
       "subscriber      0\n",
       "income        226\n",
       "age           242\n",
       "var1          243\n",
       "gender        246\n",
       "house_type    234\n",
       "lastVisit       0\n",
       "product02       0\n",
       "dtype: int64"
      ]
     },
     "execution_count": 14,
     "metadata": {},
     "output_type": "execute_result"
    }
   ],
   "source": [
    "df.isnull().sum()"
   ]
  },
  {
   "cell_type": "code",
   "execution_count": 24,
   "metadata": {},
   "outputs": [
    {
     "data": {
      "text/html": [
       "<div>\n",
       "<style scoped>\n",
       "    .dataframe tbody tr th:only-of-type {\n",
       "        vertical-align: middle;\n",
       "    }\n",
       "\n",
       "    .dataframe tbody tr th {\n",
       "        vertical-align: top;\n",
       "    }\n",
       "\n",
       "    .dataframe thead th {\n",
       "        text-align: right;\n",
       "    }\n",
       "</style>\n",
       "<table border=\"1\" class=\"dataframe\">\n",
       "  <thead>\n",
       "    <tr style=\"text-align: right;\">\n",
       "      <th></th>\n",
       "      <th>subscriber</th>\n",
       "      <th>income</th>\n",
       "      <th>age</th>\n",
       "      <th>var1</th>\n",
       "      <th>gender</th>\n",
       "      <th>house_type</th>\n",
       "      <th>lastVisit</th>\n",
       "      <th>product02</th>\n",
       "    </tr>\n",
       "  </thead>\n",
       "  <tbody>\n",
       "    <tr>\n",
       "      <th>0</th>\n",
       "      <td>1</td>\n",
       "      <td>118239.80</td>\n",
       "      <td>74.32310</td>\n",
       "      <td>1.216512</td>\n",
       "      <td>f</td>\n",
       "      <td>OWNER</td>\n",
       "      <td>1/1/2012 2:09</td>\n",
       "      <td>Nee</td>\n",
       "    </tr>\n",
       "    <tr>\n",
       "      <th>1</th>\n",
       "      <td>2</td>\n",
       "      <td>348760.40</td>\n",
       "      <td>45.86138</td>\n",
       "      <td>3.672188</td>\n",
       "      <td>f</td>\n",
       "      <td>OWNER</td>\n",
       "      <td>1/1/2012 14:03</td>\n",
       "      <td>Ja</td>\n",
       "    </tr>\n",
       "    <tr>\n",
       "      <th>2</th>\n",
       "      <td>3</td>\n",
       "      <td>96111.34</td>\n",
       "      <td>43.18818</td>\n",
       "      <td>0.578956</td>\n",
       "      <td>f</td>\n",
       "      <td>OWNER</td>\n",
       "      <td>1/1/2012 23:58</td>\n",
       "      <td>Nee</td>\n",
       "    </tr>\n",
       "    <tr>\n",
       "      <th>3</th>\n",
       "      <td>4</td>\n",
       "      <td>73818.17</td>\n",
       "      <td>43.32941</td>\n",
       "      <td>-0.129441</td>\n",
       "      <td>m</td>\n",
       "      <td>RENTAL</td>\n",
       "      <td>1/2/2012 3:51</td>\n",
       "      <td>Ja</td>\n",
       "    </tr>\n",
       "    <tr>\n",
       "      <th>4</th>\n",
       "      <td>5</td>\n",
       "      <td>36469.51</td>\n",
       "      <td>34.87954</td>\n",
       "      <td>-0.127675</td>\n",
       "      <td>m</td>\n",
       "      <td>RENTAL</td>\n",
       "      <td>1/2/2012 13:50</td>\n",
       "      <td>Nee</td>\n",
       "    </tr>\n",
       "    <tr>\n",
       "      <th>...</th>\n",
       "      <td>...</td>\n",
       "      <td>...</td>\n",
       "      <td>...</td>\n",
       "      <td>...</td>\n",
       "      <td>...</td>\n",
       "      <td>...</td>\n",
       "      <td>...</td>\n",
       "      <td>...</td>\n",
       "    </tr>\n",
       "    <tr>\n",
       "      <th>9519</th>\n",
       "      <td>9520</td>\n",
       "      <td>79324.85</td>\n",
       "      <td>29.57617</td>\n",
       "      <td>2.261101</td>\n",
       "      <td>m</td>\n",
       "      <td>OWNER</td>\n",
       "      <td>11/21/2016 12:09</td>\n",
       "      <td>Ja</td>\n",
       "    </tr>\n",
       "    <tr>\n",
       "      <th>9520</th>\n",
       "      <td>9521</td>\n",
       "      <td>215149.60</td>\n",
       "      <td>46.34125</td>\n",
       "      <td>0.590807</td>\n",
       "      <td>f</td>\n",
       "      <td>OWNER</td>\n",
       "      <td>11/21/2016 17:58</td>\n",
       "      <td>Ja</td>\n",
       "    </tr>\n",
       "    <tr>\n",
       "      <th>9521</th>\n",
       "      <td>9522</td>\n",
       "      <td>80558.36</td>\n",
       "      <td>37.10520</td>\n",
       "      <td>-0.099423</td>\n",
       "      <td>f</td>\n",
       "      <td>RENTAL</td>\n",
       "      <td>11/21/2016 20:27</td>\n",
       "      <td>Ja</td>\n",
       "    </tr>\n",
       "    <tr>\n",
       "      <th>9522</th>\n",
       "      <td>9523</td>\n",
       "      <td>158810.10</td>\n",
       "      <td>65.85983</td>\n",
       "      <td>-0.263309</td>\n",
       "      <td>f</td>\n",
       "      <td>RENTAL</td>\n",
       "      <td>11/21/2016 22:42</td>\n",
       "      <td>Ja</td>\n",
       "    </tr>\n",
       "    <tr>\n",
       "      <th>9523</th>\n",
       "      <td>9524</td>\n",
       "      <td>163871.50</td>\n",
       "      <td>40.13033</td>\n",
       "      <td>0.159354</td>\n",
       "      <td>f</td>\n",
       "      <td>OWNER</td>\n",
       "      <td>11/22/2016 0:20</td>\n",
       "      <td>Ja</td>\n",
       "    </tr>\n",
       "  </tbody>\n",
       "</table>\n",
       "<p>9046 rows × 8 columns</p>\n",
       "</div>"
      ],
      "text/plain": [
       "      subscriber     income       age      var1 gender house_type  \\\n",
       "0              1  118239.80  74.32310  1.216512      f      OWNER   \n",
       "1              2  348760.40  45.86138  3.672188      f      OWNER   \n",
       "2              3   96111.34  43.18818  0.578956      f      OWNER   \n",
       "3              4   73818.17  43.32941 -0.129441      m     RENTAL   \n",
       "4              5   36469.51  34.87954 -0.127675      m     RENTAL   \n",
       "...          ...        ...       ...       ...    ...        ...   \n",
       "9519        9520   79324.85  29.57617  2.261101      m      OWNER   \n",
       "9520        9521  215149.60  46.34125  0.590807      f      OWNER   \n",
       "9521        9522   80558.36  37.10520 -0.099423      f     RENTAL   \n",
       "9522        9523  158810.10  65.85983 -0.263309      f     RENTAL   \n",
       "9523        9524  163871.50  40.13033  0.159354      f      OWNER   \n",
       "\n",
       "             lastVisit product02  \n",
       "0        1/1/2012 2:09       Nee  \n",
       "1       1/1/2012 14:03        Ja  \n",
       "2       1/1/2012 23:58       Nee  \n",
       "3        1/2/2012 3:51        Ja  \n",
       "4       1/2/2012 13:50       Nee  \n",
       "...                ...       ...  \n",
       "9519  11/21/2016 12:09        Ja  \n",
       "9520  11/21/2016 17:58        Ja  \n",
       "9521  11/21/2016 20:27        Ja  \n",
       "9522  11/21/2016 22:42        Ja  \n",
       "9523   11/22/2016 0:20        Ja  \n",
       "\n",
       "[9046 rows x 8 columns]"
      ]
     },
     "execution_count": 24,
     "metadata": {},
     "output_type": "execute_result"
    }
   ],
   "source": [
    "df"
   ]
  },
  {
   "cell_type": "code",
   "execution_count": 25,
   "metadata": {},
   "outputs": [
    {
     "data": {
      "text/html": [
       "<div>\n",
       "<style scoped>\n",
       "    .dataframe tbody tr th:only-of-type {\n",
       "        vertical-align: middle;\n",
       "    }\n",
       "\n",
       "    .dataframe tbody tr th {\n",
       "        vertical-align: top;\n",
       "    }\n",
       "\n",
       "    .dataframe thead th {\n",
       "        text-align: right;\n",
       "    }\n",
       "</style>\n",
       "<table border=\"1\" class=\"dataframe\">\n",
       "  <thead>\n",
       "    <tr style=\"text-align: right;\">\n",
       "      <th></th>\n",
       "      <th>subscriber</th>\n",
       "      <th>income</th>\n",
       "      <th>age</th>\n",
       "      <th>var1</th>\n",
       "      <th>gender</th>\n",
       "      <th>house_type</th>\n",
       "      <th>lastVisit</th>\n",
       "      <th>product02</th>\n",
       "    </tr>\n",
       "  </thead>\n",
       "  <tbody>\n",
       "    <tr>\n",
       "      <th>0</th>\n",
       "      <td>1</td>\n",
       "      <td>118239.80</td>\n",
       "      <td>74.32310</td>\n",
       "      <td>1.216512</td>\n",
       "      <td>f</td>\n",
       "      <td>OWNER</td>\n",
       "      <td>1/1/2012 2:09</td>\n",
       "      <td>Nee</td>\n",
       "    </tr>\n",
       "    <tr>\n",
       "      <th>1</th>\n",
       "      <td>2</td>\n",
       "      <td>348760.40</td>\n",
       "      <td>45.86138</td>\n",
       "      <td>3.672188</td>\n",
       "      <td>f</td>\n",
       "      <td>OWNER</td>\n",
       "      <td>1/1/2012 14:03</td>\n",
       "      <td>Ja</td>\n",
       "    </tr>\n",
       "    <tr>\n",
       "      <th>2</th>\n",
       "      <td>3</td>\n",
       "      <td>96111.34</td>\n",
       "      <td>43.18818</td>\n",
       "      <td>0.578956</td>\n",
       "      <td>f</td>\n",
       "      <td>OWNER</td>\n",
       "      <td>1/1/2012 23:58</td>\n",
       "      <td>Nee</td>\n",
       "    </tr>\n",
       "    <tr>\n",
       "      <th>3</th>\n",
       "      <td>4</td>\n",
       "      <td>73818.17</td>\n",
       "      <td>43.32941</td>\n",
       "      <td>-0.129441</td>\n",
       "      <td>m</td>\n",
       "      <td>RENTAL</td>\n",
       "      <td>1/2/2012 3:51</td>\n",
       "      <td>Ja</td>\n",
       "    </tr>\n",
       "    <tr>\n",
       "      <th>4</th>\n",
       "      <td>5</td>\n",
       "      <td>36469.51</td>\n",
       "      <td>34.87954</td>\n",
       "      <td>-0.127675</td>\n",
       "      <td>m</td>\n",
       "      <td>RENTAL</td>\n",
       "      <td>1/2/2012 13:50</td>\n",
       "      <td>Nee</td>\n",
       "    </tr>\n",
       "  </tbody>\n",
       "</table>\n",
       "</div>"
      ],
      "text/plain": [
       "   subscriber     income       age      var1 gender house_type  \\\n",
       "0           1  118239.80  74.32310  1.216512      f      OWNER   \n",
       "1           2  348760.40  45.86138  3.672188      f      OWNER   \n",
       "2           3   96111.34  43.18818  0.578956      f      OWNER   \n",
       "3           4   73818.17  43.32941 -0.129441      m     RENTAL   \n",
       "4           5   36469.51  34.87954 -0.127675      m     RENTAL   \n",
       "\n",
       "        lastVisit product02  \n",
       "0   1/1/2012 2:09       Nee  \n",
       "1  1/1/2012 14:03        Ja  \n",
       "2  1/1/2012 23:58       Nee  \n",
       "3   1/2/2012 3:51        Ja  \n",
       "4  1/2/2012 13:50       Nee  "
      ]
     },
     "execution_count": 25,
     "metadata": {},
     "output_type": "execute_result"
    }
   ],
   "source": [
    "df.head()"
   ]
  },
  {
   "cell_type": "code",
   "execution_count": 8,
   "metadata": {},
   "outputs": [
    {
     "data": {
      "text/html": [
       "<div>\n",
       "<style scoped>\n",
       "    .dataframe tbody tr th:only-of-type {\n",
       "        vertical-align: middle;\n",
       "    }\n",
       "\n",
       "    .dataframe tbody tr th {\n",
       "        vertical-align: top;\n",
       "    }\n",
       "\n",
       "    .dataframe thead th {\n",
       "        text-align: right;\n",
       "    }\n",
       "</style>\n",
       "<table border=\"1\" class=\"dataframe\">\n",
       "  <thead>\n",
       "    <tr style=\"text-align: right;\">\n",
       "      <th></th>\n",
       "      <th>subscriber</th>\n",
       "      <th>income</th>\n",
       "      <th>age</th>\n",
       "      <th>var1</th>\n",
       "    </tr>\n",
       "  </thead>\n",
       "  <tbody>\n",
       "    <tr>\n",
       "      <th>count</th>\n",
       "      <td>9524.000000</td>\n",
       "      <td>8966.000000</td>\n",
       "      <td>8975.000000</td>\n",
       "      <td>8952.000000</td>\n",
       "    </tr>\n",
       "    <tr>\n",
       "      <th>mean</th>\n",
       "      <td>4762.500000</td>\n",
       "      <td>122301.927841</td>\n",
       "      <td>49.043465</td>\n",
       "      <td>-0.105003</td>\n",
       "    </tr>\n",
       "    <tr>\n",
       "      <th>std</th>\n",
       "      <td>2749.486316</td>\n",
       "      <td>89007.507823</td>\n",
       "      <td>16.288764</td>\n",
       "      <td>1.480915</td>\n",
       "    </tr>\n",
       "    <tr>\n",
       "      <th>min</th>\n",
       "      <td>1.000000</td>\n",
       "      <td>985.849800</td>\n",
       "      <td>18.209650</td>\n",
       "      <td>-17.140300</td>\n",
       "    </tr>\n",
       "    <tr>\n",
       "      <th>25%</th>\n",
       "      <td>2381.750000</td>\n",
       "      <td>52975.740000</td>\n",
       "      <td>36.247210</td>\n",
       "      <td>-0.853022</td>\n",
       "    </tr>\n",
       "    <tr>\n",
       "      <th>50%</th>\n",
       "      <td>4762.500000</td>\n",
       "      <td>101522.700000</td>\n",
       "      <td>47.870090</td>\n",
       "      <td>-0.117858</td>\n",
       "    </tr>\n",
       "    <tr>\n",
       "      <th>75%</th>\n",
       "      <td>7143.250000</td>\n",
       "      <td>170981.975000</td>\n",
       "      <td>59.644960</td>\n",
       "      <td>0.679146</td>\n",
       "    </tr>\n",
       "    <tr>\n",
       "      <th>max</th>\n",
       "      <td>9524.000000</td>\n",
       "      <td>632975.000000</td>\n",
       "      <td>101.095400</td>\n",
       "      <td>13.600780</td>\n",
       "    </tr>\n",
       "  </tbody>\n",
       "</table>\n",
       "</div>"
      ],
      "text/plain": [
       "        subscriber         income          age         var1\n",
       "count  9524.000000    8966.000000  8975.000000  8952.000000\n",
       "mean   4762.500000  122301.927841    49.043465    -0.105003\n",
       "std    2749.486316   89007.507823    16.288764     1.480915\n",
       "min       1.000000     985.849800    18.209650   -17.140300\n",
       "25%    2381.750000   52975.740000    36.247210    -0.853022\n",
       "50%    4762.500000  101522.700000    47.870090    -0.117858\n",
       "75%    7143.250000  170981.975000    59.644960     0.679146\n",
       "max    9524.000000  632975.000000   101.095400    13.600780"
      ]
     },
     "execution_count": 8,
     "metadata": {},
     "output_type": "execute_result"
    }
   ],
   "source": []
  },
  {
   "cell_type": "code",
   "execution_count": 4,
   "metadata": {},
   "outputs": [
    {
     "data": {
      "application/vnd.jupyter.widget-view+json": {
       "model_id": "52fac49fdd474d86a8b53c7d25aa7ccc",
       "version_major": 2,
       "version_minor": 0
      },
      "text/plain": [
       "Summarize dataset:   0%|          | 0/5 [00:00<?, ?it/s]"
      ]
     },
     "metadata": {},
     "output_type": "display_data"
    },
    {
     "data": {
      "application/vnd.jupyter.widget-view+json": {
       "model_id": "7f9573fc70ea4418b2180ae865d51da8",
       "version_major": 2,
       "version_minor": 0
      },
      "text/plain": [
       "Generate report structure:   0%|          | 0/1 [00:00<?, ?it/s]"
      ]
     },
     "metadata": {},
     "output_type": "display_data"
    },
    {
     "data": {
      "application/vnd.jupyter.widget-view+json": {
       "model_id": "458c41c490a74ab3a90642c557a38158",
       "version_major": 2,
       "version_minor": 0
      },
      "text/plain": [
       "Render HTML:   0%|          | 0/1 [00:00<?, ?it/s]"
      ]
     },
     "metadata": {},
     "output_type": "display_data"
    },
    {
     "data": {
      "application/vnd.jupyter.widget-view+json": {
       "model_id": "eb11a04b9f184118b2d0e21d46a1b906",
       "version_major": 2,
       "version_minor": 0
      },
      "text/plain": [
       "Export report to file:   0%|          | 0/1 [00:00<?, ?it/s]"
      ]
     },
     "metadata": {},
     "output_type": "display_data"
    }
   ],
   "source": [
    "profile = ProfileReport(df, title=\"Profiling Report\")\n",
    "profile.to_file(\"dataReport.html\")"
   ]
  },
  {
   "cell_type": "markdown",
   "metadata": {},
   "source": [
    "1 - Income,as expected, is skewed. We need log scaling and rounding for this if we are going to use a parametric model.\n",
    "\n",
    "2 - Age isn't integer, should be addressed. Age is also log normal.\n",
    "\n",
    "3 - Extract time & Date info from the date. \n",
    "\n",
    "4 - A lot of missing data.\n",
    "\n",
    "5 - The Target variable is imbalanaced. We need to address this.\n",
    "\n",
    "\n",
    "Complex Ideas:\n",
    "\n",
    "1 - Fill missing values using smart imputation (KNN or Prediction)\n",
    "\n",
    "2 - Try out different models with extra feature engineering (transformations)\n",
    "\n",
    "3 - Use logging instead of print statments."
   ]
  },
  {
   "cell_type": "code",
   "execution_count": null,
   "metadata": {},
   "outputs": [],
   "source": []
  },
  {
   "cell_type": "markdown",
   "metadata": {},
   "source": [
    "Creating fake data to test the model!"
   ]
  },
  {
   "cell_type": "code",
   "execution_count": 8,
   "metadata": {},
   "outputs": [],
   "source": [
    "df.sample(100).drop('product02',axis=1).to_csv('fakeTest.csv',index=False)"
   ]
  }
 ],
 "metadata": {
  "kernelspec": {
   "display_name": "base",
   "language": "python",
   "name": "python3"
  },
  "language_info": {
   "codemirror_mode": {
    "name": "ipython",
    "version": 3
   },
   "file_extension": ".py",
   "mimetype": "text/x-python",
   "name": "python",
   "nbconvert_exporter": "python",
   "pygments_lexer": "ipython3",
   "version": "3.10.11"
  }
 },
 "nbformat": 4,
 "nbformat_minor": 2
}
