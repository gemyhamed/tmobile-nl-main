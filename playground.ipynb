{
 "cells": [
  {
   "cell_type": "markdown",
   "metadata": {},
   "source": [
    "# EDA"
   ]
  },
  {
   "cell_type": "code",
   "execution_count": 17,
   "metadata": {},
   "outputs": [],
   "source": [
    "import pandas as pd\n",
    "from ydata_profiling import ProfileReport\n",
    "import numpy as np"
   ]
  },
  {
   "cell_type": "code",
   "execution_count": 18,
   "metadata": {},
   "outputs": [],
   "source": [
    "df = pd.read_csv('raw_data.csv')"
   ]
  },
  {
   "cell_type": "code",
   "execution_count": 19,
   "metadata": {},
   "outputs": [
    {
     "data": {
      "text/plain": [
       "product02\n",
       "Nee    5618\n",
       "Ja     3906\n",
       "Name: count, dtype: int64"
      ]
     },
     "execution_count": 19,
     "metadata": {},
     "output_type": "execute_result"
    }
   ],
   "source": [
    "df['product02'].value_counts()"
   ]
  },
  {
   "cell_type": "code",
   "execution_count": 20,
   "metadata": {},
   "outputs": [],
   "source": [
    "ja_sample = df[df.product02 =='Ja'].sample(100)\n",
    "na_sample = df[df.product02 =='Nee'].sample(100)\n",
    "\n",
    "test_sample = pd.concat([ja_sample,na_sample])\n",
    "test_sample.to_csv('./data/input/test_data.csv')"
   ]
  },
  {
   "cell_type": "code",
   "execution_count": 21,
   "metadata": {},
   "outputs": [],
   "source": [
    "train_data = df[~df.subscriber.isin(test_sample['subscriber'].values)]\n",
    "train_data.to_csv('./data/input/train_data.csv')"
   ]
  },
  {
   "cell_type": "code",
   "execution_count": null,
   "metadata": {},
   "outputs": [],
   "source": []
  },
  {
   "cell_type": "code",
   "execution_count": 22,
   "metadata": {},
   "outputs": [
    {
     "data": {
      "text/html": [
       "<div>\n",
       "<style scoped>\n",
       "    .dataframe tbody tr th:only-of-type {\n",
       "        vertical-align: middle;\n",
       "    }\n",
       "\n",
       "    .dataframe tbody tr th {\n",
       "        vertical-align: top;\n",
       "    }\n",
       "\n",
       "    .dataframe thead th {\n",
       "        text-align: right;\n",
       "    }\n",
       "</style>\n",
       "<table border=\"1\" class=\"dataframe\">\n",
       "  <thead>\n",
       "    <tr style=\"text-align: right;\">\n",
       "      <th></th>\n",
       "      <th>subscriber</th>\n",
       "      <th>income</th>\n",
       "      <th>age</th>\n",
       "      <th>var1</th>\n",
       "    </tr>\n",
       "  </thead>\n",
       "  <tbody>\n",
       "    <tr>\n",
       "      <th>count</th>\n",
       "      <td>9324.000000</td>\n",
       "      <td>8778.000000</td>\n",
       "      <td>8786.000000</td>\n",
       "      <td>8769.000000</td>\n",
       "    </tr>\n",
       "    <tr>\n",
       "      <th>mean</th>\n",
       "      <td>4761.093737</td>\n",
       "      <td>122265.978974</td>\n",
       "      <td>49.030304</td>\n",
       "      <td>-0.107199</td>\n",
       "    </tr>\n",
       "    <tr>\n",
       "      <th>std</th>\n",
       "      <td>2747.972157</td>\n",
       "      <td>88956.810777</td>\n",
       "      <td>16.278518</td>\n",
       "      <td>1.482041</td>\n",
       "    </tr>\n",
       "    <tr>\n",
       "      <th>min</th>\n",
       "      <td>1.000000</td>\n",
       "      <td>985.849800</td>\n",
       "      <td>18.209650</td>\n",
       "      <td>-17.140300</td>\n",
       "    </tr>\n",
       "    <tr>\n",
       "      <th>25%</th>\n",
       "      <td>2383.750000</td>\n",
       "      <td>52970.478855</td>\n",
       "      <td>36.240522</td>\n",
       "      <td>-0.853514</td>\n",
       "    </tr>\n",
       "    <tr>\n",
       "      <th>50%</th>\n",
       "      <td>4756.500000</td>\n",
       "      <td>101551.550000</td>\n",
       "      <td>47.830530</td>\n",
       "      <td>-0.119680</td>\n",
       "    </tr>\n",
       "    <tr>\n",
       "      <th>75%</th>\n",
       "      <td>7137.250000</td>\n",
       "      <td>171041.050000</td>\n",
       "      <td>59.629265</td>\n",
       "      <td>0.676826</td>\n",
       "    </tr>\n",
       "    <tr>\n",
       "      <th>max</th>\n",
       "      <td>9524.000000</td>\n",
       "      <td>632975.000000</td>\n",
       "      <td>101.095400</td>\n",
       "      <td>13.600780</td>\n",
       "    </tr>\n",
       "  </tbody>\n",
       "</table>\n",
       "</div>"
      ],
      "text/plain": [
       "        subscriber         income          age         var1\n",
       "count  9324.000000    8778.000000  8786.000000  8769.000000\n",
       "mean   4761.093737  122265.978974    49.030304    -0.107199\n",
       "std    2747.972157   88956.810777    16.278518     1.482041\n",
       "min       1.000000     985.849800    18.209650   -17.140300\n",
       "25%    2383.750000   52970.478855    36.240522    -0.853514\n",
       "50%    4756.500000  101551.550000    47.830530    -0.119680\n",
       "75%    7137.250000  171041.050000    59.629265     0.676826\n",
       "max    9524.000000  632975.000000   101.095400    13.600780"
      ]
     },
     "execution_count": 22,
     "metadata": {},
     "output_type": "execute_result"
    }
   ],
   "source": [
    "train_data.describe()"
   ]
  },
  {
   "cell_type": "code",
   "execution_count": 23,
   "metadata": {},
   "outputs": [
    {
     "data": {
      "text/plain": [
       "subscriber      0\n",
       "income        546\n",
       "age           538\n",
       "var1          555\n",
       "gender        545\n",
       "house_type    532\n",
       "lastVisit       0\n",
       "product02       0\n",
       "dtype: int64"
      ]
     },
     "execution_count": 23,
     "metadata": {},
     "output_type": "execute_result"
    }
   ],
   "source": [
    "# Get count of missing values in the dataset\n",
    "train_data.isnull().sum()"
   ]
  },
  {
   "cell_type": "code",
   "execution_count": 24,
   "metadata": {},
   "outputs": [
    {
     "data": {
      "text/plain": [
       "0    8120\n",
       "2     422\n",
       "3     329\n",
       "1     314\n",
       "4     124\n",
       "5      15\n",
       "Name: count, dtype: int64"
      ]
     },
     "execution_count": 24,
     "metadata": {},
     "output_type": "execute_result"
    }
   ],
   "source": [
    "# Checking the distribution of the null values across rows \n",
    "train_data.isnull().sum(axis=1).value_counts()"
   ]
  },
  {
   "cell_type": "code",
   "execution_count": 25,
   "metadata": {},
   "outputs": [
    {
     "data": {
      "text/plain": [
       "subscriber      0\n",
       "income        221\n",
       "age           238\n",
       "var1          233\n",
       "gender        241\n",
       "house_type    225\n",
       "lastVisit       0\n",
       "product02       0\n",
       "dtype: int64"
      ]
     },
     "execution_count": 25,
     "metadata": {},
     "output_type": "execute_result"
    }
   ],
   "source": [
    "# Drop rows that have more than 2 missing values.\n",
    "train_data[train_data.isnull().sum(axis=1) <= 2].isnull().sum()"
   ]
  },
  {
   "cell_type": "code",
   "execution_count": 26,
   "metadata": {},
   "outputs": [
    {
     "name": "stderr",
     "output_type": "stream",
     "text": [
      "e:\\Use Cases\\tmobile-nl-main\\.venv\\lib\\site-packages\\ydata_profiling\\utils\\dataframe.py:137: SettingWithCopyWarning: \n",
      "A value is trying to be set on a copy of a slice from a DataFrame\n",
      "\n",
      "See the caveats in the documentation: https://pandas.pydata.org/pandas-docs/stable/user_guide/indexing.html#returning-a-view-versus-a-copy\n",
      "  df.rename(columns={\"index\": \"df_index\"}, inplace=True)\n"
     ]
    },
    {
     "data": {
      "application/vnd.jupyter.widget-view+json": {
       "model_id": "9825b74ff7eb49e494dad824e6d0b5ca",
       "version_major": 2,
       "version_minor": 0
      },
      "text/plain": [
       "Summarize dataset:   0%|          | 0/5 [00:00<?, ?it/s]"
      ]
     },
     "metadata": {},
     "output_type": "display_data"
    },
    {
     "data": {
      "application/vnd.jupyter.widget-view+json": {
       "model_id": "8cef6f609b32444587fdd77ce722dd1f",
       "version_major": 2,
       "version_minor": 0
      },
      "text/plain": [
       "Generate report structure:   0%|          | 0/1 [00:00<?, ?it/s]"
      ]
     },
     "metadata": {},
     "output_type": "display_data"
    },
    {
     "data": {
      "application/vnd.jupyter.widget-view+json": {
       "model_id": "308d66c6260d4be38374efb655e946c1",
       "version_major": 2,
       "version_minor": 0
      },
      "text/plain": [
       "Render HTML:   0%|          | 0/1 [00:00<?, ?it/s]"
      ]
     },
     "metadata": {},
     "output_type": "display_data"
    },
    {
     "data": {
      "application/vnd.jupyter.widget-view+json": {
       "model_id": "c1ca4984ec1842509ed9e9bc755d48db",
       "version_major": 2,
       "version_minor": 0
      },
      "text/plain": [
       "Export report to file:   0%|          | 0/1 [00:00<?, ?it/s]"
      ]
     },
     "metadata": {},
     "output_type": "display_data"
    }
   ],
   "source": [
    "profile = ProfileReport(train_data, title=\"Profiling Report\")\n",
    "profile.to_file(\"dataReport.html\")"
   ]
  },
  {
   "cell_type": "markdown",
   "metadata": {},
   "source": [
    "## EDA Results\n",
    "1 - Income,as expected, is skewed. We need log scaling and rounding for this if we are going to use a parametric model.\n",
    "\n",
    "2 - Age isn't integer, should be addressed. Age is also log normal.\n",
    "\n",
    "3 - We need to extract time & Date info from the date. \n",
    "\n",
    "4 - Missing data in different columns.\n",
    "\n",
    "5 - Medium +ve corr between Var1 and house_type. Medium -ve corr between Var1 and age. \n",
    "\n",
    "6 - Medium +ve corr between age, income and gender.\n",
    "\n",
    "7 - The Target variable is imbalanaced. We need to address this. (Usin class weight + weighted scoring Now, tried SMOTE but no lift) \n"
   ]
  },
  {
   "cell_type": "markdown",
   "metadata": {},
   "source": [
    "## Future Improvments Ideas:\n",
    "\n",
    "1 - Try Filling out missing values using smart imputation (KNN or Prediction)\n",
    "\n",
    "2 - Try different ways for handling imbalance in the Data instead of class weight.\n",
    "\n",
    "2 - Try out different models with extra feature engineering (transformations)\n",
    "\n",
    "3 - Use logging instead of print statments.\n",
    "\n",
    "4 - Use interaction variables.\n",
    "\n",
    "## Final Notes:\n",
    "\n",
    "Optimizing for Precision vs Recall in model training would depend on business context. For example, if you are using the model to send marketing offers and you want to optimize for not sending too many offers (for cost or convenience reasons), you will try to optimize for Precision. On the other hand, if the goal is to maximize revenue and don't want to lose out on potential sales, optimize for Recall."
   ]
  }
 ],
 "metadata": {
  "kernelspec": {
   "display_name": "base",
   "language": "python",
   "name": "python3"
  },
  "language_info": {
   "codemirror_mode": {
    "name": "ipython",
    "version": 3
   },
   "file_extension": ".py",
   "mimetype": "text/x-python",
   "name": "python",
   "nbconvert_exporter": "python",
   "pygments_lexer": "ipython3",
   "version": "3.10.11"
  }
 },
 "nbformat": 4,
 "nbformat_minor": 2
}
